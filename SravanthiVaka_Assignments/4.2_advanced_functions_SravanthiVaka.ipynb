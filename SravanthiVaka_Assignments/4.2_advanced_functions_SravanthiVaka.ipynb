{
 "cells": [
  {
   "cell_type": "markdown",
   "metadata": {},
   "source": [
    "# Module 4: Advanced Functions Assignments\n",
    "## Lesson 4.1: Defining Functions\n",
    "\n",
    "## TRY TO SOLVE AS MANY AS YOU CAN!\n",
    "### Assignment 1: Fibonacci Sequence with Memoization\n",
    "\n",
    "Define a recursive function to calculate the nth Fibonacci number using memoization. Test the function with different inputs.\n",
    "\n",
    "### Assignment 2: Function with Nested Default Arguments\n",
    "\n",
    "Define a function that takes two arguments, a and b, where b is a dictionary with a default value of an empty dictionary. The function should add a new key-value pair to the dictionary and return it. Test the function with different inputs.\n",
    "\n",
    "### Assignment 3: Function with Variable Keyword Arguments\n",
    "\n",
    "Define a function that takes a variable number of keyword arguments and returns a dictionary containing only those key-value pairs where the value is an integer. Test the function with different inputs.\n",
    "\n",
    "### Assignment 4: Function with Callback\n",
    "\n",
    "Define a function that takes another function as a callback and a list of integers. The function should apply the callback to each integer in the list and return a new list with the results. Test with different callback functions.\n",
    "\n",
    "### Assignment 5: Function that Returns a Function\n",
    "\n",
    "Define a function that returns another function. The returned function should take an integer and return its square. Test the returned function with different inputs.\n",
    "\n",
    "### Assignment 6: Function with Decorators\n",
    "\n",
    "Define a function that calculates the time taken to execute another function. Apply this decorator to a function that performs a complex calculation. Test the decorated function with different inputs.\n",
    "\n",
    "### Assignment 7: Higher-Order Function for Filtering and Mapping\n",
    "\n",
    "Define a higher-order function that takes two functions, a filter function and a map function, along with a list of integers. The higher-order function should first filter the integers using the filter function and then apply the map function to the filtered integers. Test with different filter and map functions.\n",
    "\n",
    "### Assignment 8: Function Composition\n",
    "\n",
    "Define a function that composes two functions, f and g, such that the result is f(g(x)). Test with different functions f and g.\n",
    "\n",
    "### Assignment 9: Partial Function Application\n",
    "\n",
    "Use the functools.partial function to create a new function that multiplies its input by 2. Test the new function with different inputs.\n",
    "\n",
    "### Assignment 10: Function with Error Handling\n",
    "\n",
    "Define a function that takes a list of integers and returns their average. The function should handle any errors that occur (e.g., empty list) and return None in such cases. Test with different inputs.\n",
    "\n",
    "### Assignment 11: Function with Generators\n",
    "\n",
    "Define a function that generates an infinite sequence of Fibonacci numbers. Test by printing the first 10 numbers in the sequence.\n",
    "\n",
    "### Assignment 12: Currying\n",
    "\n",
    "Define a curried function that takes three arguments, one at a time, and returns their product. Test the function by providing arguments one at a time.\n",
    "\n",
    "### Assignment 13: Function with Context Manager\n",
    "\n",
    "Define a function that uses a context manager to write a list of integers to a file. The function should handle any errors that occur during file operations. Test with different lists.\n",
    "\n",
    "### Assignment 14: Function with Multiple Return Types\n",
    "\n",
    "Define a function that takes a list of mixed data types (integers, strings, and floats) and returns three lists: one containing all the integers, one containing all the strings, and one containing all the floats. Test with different inputs.\n",
    "\n",
    "### Assignment 15: Function with State\n",
    "\n",
    "Define a function that maintains state between calls using a mutable default argument. The function should keep track of how many times it has been called. Test by calling the function multiple times."
   ]
  },
  {
   "cell_type": "code",
   "execution_count": 1,
   "metadata": {},
   "outputs": [
    {
     "name": "stdout",
     "output_type": "stream",
     "text": [
      "5\n",
      "21\n",
      "144\n"
     ]
    }
   ],
   "source": [
    "#Lesson 4.1: Defining Functions\n",
    "#Assignment 1: Fibonacci Sequence with Memoization\n",
    "#Define a recursive function to calculate the nth Fibonacci number using memoization. Test the function with different inputs.\n",
    "def fibonacci(n, memo={}):\n",
    "    if n in memo:\n",
    "        return memo[n]\n",
    "    if n == 0:\n",
    "        return 0\n",
    "    if n == 1:\n",
    "        return 1\n",
    "    memo[n] = fibonacci(n - 1, memo) + fibonacci(n - 2, memo)\n",
    "    return memo[n]\n",
    "print(fibonacci(5))\n",
    "print(fibonacci(8))\n",
    "print(fibonacci(12))\n"
   ]
  },
  {
   "cell_type": "code",
   "execution_count": 2,
   "id": "24733fe7",
   "metadata": {},
   "outputs": [
    {
     "name": "stdout",
     "output_type": "stream",
     "text": [
      "{1: 2}\n",
      "{1: 2, 2: 4}\n",
      "{3: 6}\n",
      "{1: 2, 2: 4, 4: 8}\n"
     ]
    }
   ],
   "source": [
    "#Assignment 2: Function with Nested Default Arguments\n",
    "#Define a function that takes two arguments, a and b, where b is a dictionary with a default value of an empty dictionary. The function should add a new key-value pair to the dictionary and return it. Test the function with different inputs.\n",
    "def add_dict(a, b={}):\n",
    "    b[a] = a * 2\n",
    "    return b\n",
    "print(add_dict(1))\n",
    "print(add_dict(2))\n",
    "print(add_dict(3, {}))\n",
    "print(add_dict(4))\n"
   ]
  },
  {
   "cell_type": "code",
   "execution_count": 20,
   "id": "14783caa",
   "metadata": {},
   "outputs": [
    {
     "name": "stdout",
     "output_type": "stream",
     "text": [
      "{'marks': 95}\n",
      "{'a': 10, 'c': 20}\n",
      "{'y': 2, 'z': 3}\n"
     ]
    }
   ],
   "source": [
    "#Assignment 3: Function with Variable Keyword Arguments\n",
    "#Define a function that takes a variable number of keyword arguments and returns a dictionary containing only those key-value pairs where the value is an integer. Test the function with different inputs.\n",
    "def vka(**kwargs):\n",
    "    result = {}\n",
    "    for key in kwargs:\n",
    "        if type(kwargs[key]) == int:\n",
    "            result[key] = kwargs[key]\n",
    "    return result\n",
    "print(vka(name=\"Sravanthi\", grade='A', marks=95))\n",
    "print(vka(a=10, b=\"hello\", c=20))\n",
    "print(vka(x=1.5, y=2, z=3))\n",
    "\n"
   ]
  },
  {
   "cell_type": "code",
   "execution_count": 6,
   "id": "74b9e666",
   "metadata": {},
   "outputs": [
    {
     "name": "stdout",
     "output_type": "stream",
     "text": [
      "[1, 4, 9]\n",
      "[9, 10, 11]\n",
      "[9, 19, 29]\n"
     ]
    }
   ],
   "source": [
    "#Assignment 4: Function with Callback\n",
    "#Define a function that takes another function as a callback and a list of integers. The function should apply the callback to each integer in the list and return a new list with the results. Test with different callback functions.\n",
    "def callback(func, nums):\n",
    "    new_list = []\n",
    "    for i in nums:\n",
    "        new_list.append(func(i))\n",
    "    return new_list\n",
    "def square(x):\n",
    "    return x * x\n",
    "def add_five(x):\n",
    "    return x + 5\n",
    "print(callback(square, [1, 2, 3]))\n",
    "print(callback(add_five, [4, 5, 6]))\n",
    "print(callback(lambda x: x - 1, [10, 20, 30]))\n"
   ]
  },
  {
   "cell_type": "code",
   "execution_count": 7,
   "id": "e30c78c4",
   "metadata": {},
   "outputs": [
    {
     "name": "stdout",
     "output_type": "stream",
     "text": [
      "4\n",
      "25\n",
      "100\n"
     ]
    }
   ],
   "source": [
    "#Assignment 5: Function that Returns a Function\n",
    "#Define a function that returns another function. The returned function should take an integer and return its square. Test the returned function with different inputs.\n",
    "def outer():\n",
    "    def inner(x):\n",
    "        return x * x\n",
    "    return inner\n",
    "square = outer()\n",
    "print(square(2))\n",
    "print(square(5))\n",
    "print(square(10))\n"
   ]
  },
  {
   "cell_type": "code",
   "execution_count": 8,
   "id": "c509ab57",
   "metadata": {},
   "outputs": [
    {
     "name": "stdout",
     "output_type": "stream",
     "text": [
      "Time taken: 0.0015287399291992188 seconds\n",
      "333383335000\n",
      "Time taken: 0.0030319690704345703 seconds\n",
      "2666866670000\n"
     ]
    }
   ],
   "source": [
    "#Assignment 6: Function with Decorators\n",
    "#Define a function that calculates the time taken to execute another function. Apply this decorator to a function that performs a complex calculation. Test the decorated function with different inputs.\n",
    "import time\n",
    "def timer(func):\n",
    "    def inner(*args, **kwargs):\n",
    "        start = time.time()\n",
    "        result = func(*args, **kwargs)\n",
    "        end = time.time()\n",
    "        print(\"Time taken:\", end - start, \"seconds\")\n",
    "        return result\n",
    "    return inner\n",
    "@timer\n",
    "def calc_sum(n):\n",
    "    s = 0\n",
    "    for i in range(1, n+1):\n",
    "        s += i * i\n",
    "    return s\n",
    "print(calc_sum(10000))\n",
    "print(calc_sum(20000))\n"
   ]
  },
  {
   "cell_type": "code",
   "execution_count": 19,
   "id": "c0e763bc",
   "metadata": {},
   "outputs": [
    {
     "name": "stdout",
     "output_type": "stream",
     "text": [
      "[4, 16, 36]\n",
      "[14, 15]\n"
     ]
    }
   ],
   "source": [
    "#Assignment 7: Higher-Order Function for Filtering and Mapping\n",
    "#Define a higher-order function that takes two functions, a filter function and a map function, along with a list of integers. The higher-order function should first filter the integers using the filter function and then apply the map function to the filtered integers. Test with different filter and map functions.\n",
    "def filter_map(filter_func, map_func, numbers):\n",
    "    filtered = []\n",
    "    for num in numbers:\n",
    "        if filter_func(num):\n",
    "            filtered.append(num)\n",
    "    result = []\n",
    "    for num in filtered:\n",
    "        result.append(map_func(num))\n",
    "    return result\n",
    "def is_even(x):\n",
    "    return x % 2 == 0\n",
    "def square(x):\n",
    "    return x * x\n",
    "print(filter_map(is_even, square, [1, 2, 3, 4, 5, 6]))\n",
    "print(filter_map(lambda x: x > 3, lambda x: x + 10, [1, 2, 3, 4, 5]))\n"
   ]
  },
  {
   "cell_type": "code",
   "execution_count": 10,
   "id": "23cda4ff",
   "metadata": {},
   "outputs": [
    {
     "name": "stdout",
     "output_type": "stream",
     "text": [
      "36\n",
      "121\n"
     ]
    }
   ],
   "source": [
    "#Assignment 8: Function Composition\n",
    "#Define a function that composes two functions, f and g, such that the result is f(g(x)). Test with different functions f and g.\n",
    "def compose(f, g):\n",
    "    def composed(x):\n",
    "        return f(g(x))\n",
    "    return composed\n",
    "def add_one(x):\n",
    "    return x + 1\n",
    "def square(x):\n",
    "    return x * x\n",
    "new_func = compose(square, add_one)\n",
    "print(new_func(5))\n",
    "print(new_func(10))\n"
   ]
  },
  {
   "cell_type": "code",
   "execution_count": 11,
   "id": "e7f2221d",
   "metadata": {},
   "outputs": [
    {
     "name": "stdout",
     "output_type": "stream",
     "text": [
      "10\n",
      "20\n",
      "0\n"
     ]
    }
   ],
   "source": [
    "#Assignment 9: Partial Function Application\n",
    "#Use the functools.partial function to create a new function that multiplies its input by 2. Test the new function with different inputs.\n",
    "from functools import partial\n",
    "def multiply(x, y):\n",
    "    return x * y\n",
    "times_two = partial(multiply, 2)\n",
    "print(times_two(5))\n",
    "print(times_two(10))\n",
    "print(times_two(0))\n"
   ]
  },
  {
   "cell_type": "code",
   "execution_count": 12,
   "id": "caf18073",
   "metadata": {},
   "outputs": [
    {
     "name": "stdout",
     "output_type": "stream",
     "text": [
      "2.5\n",
      "None\n",
      "10.0\n"
     ]
    }
   ],
   "source": [
    "#Assignment 10: Function with Error Handling\n",
    "#Define a function that takes a list of integers and returns their average. The function should handle any errors that occur (e.g., empty list) and return None in such cases. Test with different inputs.\n",
    "def average(nums):\n",
    "    try:\n",
    "        return sum(nums) / len(nums)\n",
    "    except ZeroDivisionError:\n",
    "        return None\n",
    "print(average([1, 2, 3, 4]))\n",
    "print(average([]))\n",
    "print(average([10]))\n"
   ]
  },
  {
   "cell_type": "code",
   "execution_count": null,
   "id": "149aaa0b",
   "metadata": {},
   "outputs": [
    {
     "name": "stdout",
     "output_type": "stream",
     "text": [
      "0\n",
      "1\n",
      "1\n",
      "2\n",
      "3\n",
      "5\n",
      "8\n",
      "13\n",
      "21\n",
      "34\n"
     ]
    }
   ],
   "source": [
    "#Assignment 11: Function with Generators\n",
    "#Define a function that generates an infinite sequence of Fibonacci numbers. Test by printing the first 10 numbers in the sequenc\n",
    "def fibonacci():\n",
    "    a, b = 0, 1\n",
    "    while True:\n",
    "        yield a\n",
    "        a, b = b, a + b\n",
    "fib = fibonacci()\n",
    "for _ in range(10):\n",
    "    print(next(fib))\n"
   ]
  },
  {
   "cell_type": "code",
   "execution_count": 14,
   "id": "0d8c7975",
   "metadata": {},
   "outputs": [
    {
     "name": "stdout",
     "output_type": "stream",
     "text": [
      "24\n"
     ]
    }
   ],
   "source": [
    "#Assignment 12: Currying\n",
    "#Define a curried function that takes three arguments, one at a time, and returns their product. Test the function by providing arguments one at a time.\n",
    "def curried_multiply(a):\n",
    "    def multiply_b(b):\n",
    "        def multiply_c(c):\n",
    "            return a * b * c\n",
    "        return multiply_c\n",
    "    return multiply_b\n",
    "result = curried_multiply(2)(3)(4)\n",
    "print(result)\n"
   ]
  },
  {
   "cell_type": "code",
   "execution_count": 15,
   "id": "a237fa3d",
   "metadata": {},
   "outputs": [
    {
     "name": "stdout",
     "output_type": "stream",
     "text": [
      "File written successfully\n",
      "File written successfully\n"
     ]
    }
   ],
   "source": [
    "#Assignment 13: Function with Context Manager\n",
    "#Define a function that uses a context manager to write a list of integers to a file. The function should handle any errors that occur during file operations. Test with different lists.\n",
    "def write_numbers_to_file(nums, filename):\n",
    "    try:\n",
    "        with open(filename, 'w') as file:\n",
    "            for n in nums:\n",
    "                file.write(str(n) + '\\n')\n",
    "        print(\"File written successfully\")\n",
    "    except:\n",
    "        print(\"Error writing to file\")\n",
    "\n",
    "write_numbers_to_file([10, 20, 30], 'output.txt')\n",
    "write_numbers_to_file([], 'empty.txt')\n"
   ]
  },
  {
   "cell_type": "code",
   "execution_count": 16,
   "id": "a3680d0f",
   "metadata": {},
   "outputs": [
    {
     "name": "stdout",
     "output_type": "stream",
     "text": [
      "Integers: [1, 2, 7]\n",
      "Strings: ['hello', 'world']\n",
      "Floats: [3.5, 4.0]\n"
     ]
    }
   ],
   "source": [
    "#Assignment 14: Function with Multiple Return Types\n",
    "#Define a function that takes a list of mixed data types (integers, strings, and floats) and returns three lists: one containing all the integers, one containing all the strings, and one containing all the floats. Test with different inputs.\n",
    "def multiple_types(items):\n",
    "    int_list = []\n",
    "    str_list = []\n",
    "    float_list = []\n",
    "    for i in items:\n",
    "        if type(i) == int:\n",
    "            int_list.append(i)\n",
    "        elif type(i) == str:\n",
    "            str_list.append(i)\n",
    "        elif type(i) == float:\n",
    "            float_list.append(i)\n",
    "    return int_list, str_list, float_list\n",
    "data = [1, \"hello\", 3.5, 2, \"world\", 4.0, 7]\n",
    "ints, strs, floats = multiple_types(data)\n",
    "print(\"Integers:\", ints)\n",
    "print(\"Strings:\", strs)\n",
    "print(\"Floats:\", floats)\n"
   ]
  },
  {
   "cell_type": "code",
   "execution_count": 18,
   "id": "9fc2ecbe",
   "metadata": {},
   "outputs": [
    {
     "name": "stdout",
     "output_type": "stream",
     "text": [
      "Function called 1 times\n",
      "Function called 2 times\n"
     ]
    }
   ],
   "source": [
    "#Assignment 15: Function with State\n",
    "#Define a function that maintains state between calls using a mutable default argument. The function should keep track of how many times it has been called. Test by calling the function multiple times.\n",
    "def counter(counter=[0]):\n",
    "    counter[0] += 1\n",
    "    print(\"Function called\", counter[0], \"times\")\n",
    "counter()\n",
    "counter()\n"
   ]
  }
 ],
 "metadata": {
  "kernelspec": {
   "display_name": "base",
   "language": "python",
   "name": "python3"
  },
  "language_info": {
   "codemirror_mode": {
    "name": "ipython",
    "version": 3
   },
   "file_extension": ".py",
   "mimetype": "text/x-python",
   "name": "python",
   "nbconvert_exporter": "python",
   "pygments_lexer": "ipython3",
   "version": "3.13.5"
  }
 },
 "nbformat": 4,
 "nbformat_minor": 5
}
