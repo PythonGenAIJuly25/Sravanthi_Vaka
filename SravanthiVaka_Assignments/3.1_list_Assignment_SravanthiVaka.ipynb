{
 "cells": [
  {
   "cell_type": "markdown",
   "metadata": {},
   "source": [
    "# Module 3: Data Structures Assignments\n",
    "## Lesson 3.1: Lists\n",
    "### Assignment 1: Creating and Accessing Lists\n",
    "\n",
    "Create a list of the first 20 positive integers. Print the list.\n",
    "\n",
    "### Assignment 2: Accessing List Elements\n",
    "\n",
    "Print the first, middle, and last elements of the list created in Assignment 1.\n",
    "\n",
    "### Assignment 3: List Slicing\n",
    "\n",
    "Print the first five elements, the last five elements, and the elements from index 5 to 15 of the list created in Assignment 1.\n",
    "\n",
    "### Assignment 4: List Comprehensions\n",
    "\n",
    "Create a new list containing the squares of the first 10 positive integers using a list comprehension. Print the new list.\n",
    "\n",
    "### Assignment 5: Filtering Lists\n",
    "\n",
    "Create a new list containing only the even numbers from the list created in Assignment 1 using a list comprehension. Print the new list.\n",
    "\n",
    "### Assignment 6: List Methods\n",
    "\n",
    "Create a list of random numbers and sort it in ascending and descending order. Remove the duplicates from the list and print the modified list.\n",
    "\n",
    "### Assignment 7: Nested Lists\n",
    "\n",
    "Create a nested list representing a 3x3 matrix and print the matrix. Access and print the element at the second row and third column.\n",
    "\n",
    "### Assignment 8: List of Dictionaries\n",
    "\n",
    "Create a list of dictionaries where each dictionary represents a student with keys 'name' and 'score'. Sort the list of dictionaries by the 'score' in descending order and print the sorted list.\n",
    "\n",
    "### Assignment 9: Matrix Transposition\n",
    "\n",
    "Write a function that takes a 3x3 matrix (nested list) as input and returns its transpose. Print the original and transposed matrices.\n",
    "\n",
    "### Assignment 10: Flattening a Nested List\n",
    "\n",
    "Write a function that takes a nested list and flattens it into a single list. Print the original and flattened lists.\n",
    "\n",
    "### Assignment 11: List Manipulation\n",
    "\n",
    "Create a list of the first 10 positive integers. Remove the elements at indices 2, 4, and 6, and insert the element '99' at index 5. Print the modified list.\n",
    "\n",
    "### Assignment 12: List Zipping\n",
    "\n",
    "Create two lists of the same length. Use the `zip` function to combine these lists into a list of tuples and print the result.\n",
    "\n",
    "### Assignment 13: List Reversal\n",
    "\n",
    "Write a function that takes a list and returns a new list with the elements in reverse order. Print the original and reversed lists.\n",
    "\n",
    "### Assignment 14: List Rotation\n",
    "\n",
    "Write a function that rotates a list by n positions. Print the original and rotated lists.\n",
    "\n",
    "### Assignment 15: List Intersection\n",
    "\n",
    "Write a function that takes two lists and returns a new list containing only the elements that are present in both lists. Print the intersected list."
   ]
  },
  {
   "cell_type": "code",
   "execution_count": 1,
   "metadata": {},
   "outputs": [
    {
     "name": "stdout",
     "output_type": "stream",
     "text": [
      "List of first 20 positive integers: [1, 2, 3, 4, 5, 6, 7, 8, 9, 10, 11, 12, 13, 14, 15, 16, 17, 18, 19, 20]\n"
     ]
    }
   ],
   "source": [
    "# Module 3: Data Structures Assignments\n",
    "## Lesson 3.1: Lists\n",
    "### Assignment 1: Creating and Accessing Lists\n",
    "#Create a list of the first 20 positive integers. Print the list.\n",
    "numbers = list(range(1, 21))\n",
    "print(\"List of first 20 positive integers:\", numbers)\n"
   ]
  },
  {
   "cell_type": "code",
   "execution_count": 2,
   "id": "1bbbb768",
   "metadata": {},
   "outputs": [
    {
     "name": "stdout",
     "output_type": "stream",
     "text": [
      "First element: 1\n",
      "Middle element: 11\n",
      "Last element: 20\n"
     ]
    }
   ],
   "source": [
    "###Assignment 2: Accessing List Elements\n",
    "#Print the first, middle, and last elements of the list created in Assignment 1.\n",
    "numbers = list(range(1, 21))\n",
    "print(\"First element:\", numbers[0])\n",
    "print(\"Middle element:\", numbers[len(numbers) // 2])\n",
    "print(\"Last element:\", numbers[-1])\n"
   ]
  },
  {
   "cell_type": "code",
   "execution_count": 3,
   "id": "fff34bc5",
   "metadata": {},
   "outputs": [
    {
     "name": "stdout",
     "output_type": "stream",
     "text": [
      "First five elements: [1, 2, 3, 4, 5]\n",
      "Last five elements: [16, 17, 18, 19, 20]\n",
      "Elements from index 5 to 15: [6, 7, 8, 9, 10, 11, 12, 13, 14, 15, 16]\n"
     ]
    }
   ],
   "source": [
    "#Assignment 3: List Slicing\n",
    "#Print the first five elements, the last five elements, and the elements from index 5 to 15 of the list created in Assignment 1.\n",
    "numbers = list(range(1, 21))\n",
    "print(\"First five elements:\", numbers[:5])\n",
    "print(\"Last five elements:\", numbers[-5:])\n",
    "print(\"Elements from index 5 to 15:\", numbers[5:16])\n"
   ]
  },
  {
   "cell_type": "code",
   "execution_count": 4,
   "id": "290c51fa",
   "metadata": {},
   "outputs": [
    {
     "name": "stdout",
     "output_type": "stream",
     "text": [
      "Squares of the first 10 positive integers: [1, 4, 9, 16, 25, 36, 49, 64, 81, 100]\n"
     ]
    }
   ],
   "source": [
    "#Assignment 4: List Comprehensions\n",
    "#Create a new list containing the squares of the first 10 positive integers using a list comprehension. Print the new list.\n",
    "squares = [x**2 for x in range(1, 11)]\n",
    "print(\"Squares of the first 10 positive integers:\", squares)\n"
   ]
  },
  {
   "cell_type": "code",
   "execution_count": 5,
   "id": "109aea97",
   "metadata": {},
   "outputs": [
    {
     "name": "stdout",
     "output_type": "stream",
     "text": [
      "Even numbers from the list: [2, 4, 6, 8, 10, 12, 14, 16, 18, 20]\n"
     ]
    }
   ],
   "source": [
    "#Assignment 5: Filtering Lists\n",
    "#Create a new list containing only the even numbers from the list created in Assignment 1 using a list comprehension. Print the new list.\n",
    "numbers = list(range(1, 21))\n",
    "even_num = [x for x in numbers if x % 2 == 0]\n",
    "print(\"Even numbers from the list:\", even_num)\n"
   ]
  },
  {
   "cell_type": "code",
   "execution_count": 8,
   "id": "174605a0",
   "metadata": {},
   "outputs": [
    {
     "name": "stdout",
     "output_type": "stream",
     "text": [
      "Original list: [2, 1, 17, 17, 11, 4, 14, 15, 18, 2, 3, 8, 16, 2, 13]\n",
      "Ascending order: [1, 2, 2, 2, 3, 4, 8, 11, 13, 14, 15, 16, 17, 17, 18]\n",
      "Descending order: [18, 17, 17, 16, 15, 14, 13, 11, 8, 4, 3, 2, 2, 2, 1]\n",
      "List without duplicates: [1, 2, 3, 4, 8, 11, 13, 14, 15, 16, 17, 18]\n"
     ]
    }
   ],
   "source": [
    "#Assignment 6: List Methods\n",
    "#Create a list of random numbers and sort it in ascending and descending order. Remove the duplicates from the list and print the modified list.\n",
    "import random\n",
    "random_numbers = [random.randint(1, 20) for i in range(15)]\n",
    "print(\"Original list:\", random_numbers)\n",
    "asc = sorted(random_numbers)\n",
    "print(\"Ascending order:\", asc)\n",
    "desc = sorted(random_numbers, reverse=True)\n",
    "print(\"Descending order:\", desc)\n",
    "unique = list(set(random_numbers))\n",
    "print(\"List without duplicates:\", unique)\n",
    "\n"
   ]
  },
  {
   "cell_type": "code",
   "execution_count": 7,
   "id": "999055f1",
   "metadata": {},
   "outputs": [
    {
     "name": "stdout",
     "output_type": "stream",
     "text": [
      "3x3 Matrix:\n",
      "[1, 2, 3]\n",
      "[4, 5, 6]\n",
      "[7, 8, 9]\n",
      "Element at second row and third column: 6\n"
     ]
    }
   ],
   "source": [
    "#Assignment 7: Nested Lists\n",
    "#Create a nested list representing a 3x3 matrix and print the matrix. Access and print the element at the second row and third column.\n",
    "matrix = [\n",
    "    [1, 2, 3],\n",
    "    [4, 5, 6],\n",
    "    [7, 8, 9]\n",
    "]\n",
    "print(\"3x3 Matrix:\")\n",
    "for row in matrix:\n",
    "    print(row)\n",
    "print(\"Element at second row and third column:\", matrix[1][2])\n"
   ]
  },
  {
   "cell_type": "code",
   "execution_count": 9,
   "id": "39080050",
   "metadata": {},
   "outputs": [
    {
     "name": "stdout",
     "output_type": "stream",
     "text": [
      "Sorted list by score (descending): [{'name': 'Ruhee', 'score': 92}, {'name': 'Pallavi', 'score': 90}, {'name': 'Sravanthi', 'score': 85}, {'name': 'Ramya', 'score': 78}]\n"
     ]
    }
   ],
   "source": [
    "#Assignment 8: List of Dictionaries\n",
    "#Create a list of dictionaries where each dictionary represents a student with keys 'name' and 'score'. Sort the list of dictionaries by the 'score' in descending order and print the sorted list.\n",
    "students = [\n",
    "    {\"name\": \"Sravanthi\", \"score\": 85},\n",
    "    {\"name\": \"Ruhee\", \"score\": 92},\n",
    "    {\"name\": \"Ramya\", \"score\": 78},\n",
    "    {\"name\": \"Pallavi\", \"score\": 90}\n",
    "]\n",
    "sorted_students = sorted(students, key=lambda x: x['score'], reverse=True)\n",
    "print(\"Sorted list by score (descending):\", sorted_students)\n"
   ]
  },
  {
   "cell_type": "code",
   "execution_count": 10,
   "id": "38a89aa3",
   "metadata": {},
   "outputs": [
    {
     "name": "stdout",
     "output_type": "stream",
     "text": [
      "Original Matrix:\n",
      "[1, 2, 3]\n",
      "[4, 5, 6]\n",
      "[7, 8, 9]\n",
      "Transposed Matrix:\n",
      "[1, 4, 7]\n",
      "[2, 5, 8]\n",
      "[3, 6, 9]\n"
     ]
    }
   ],
   "source": [
    "#Assignment 9: Matrix Transposition\n",
    "#Write a function that takes a 3x3 matrix (nested list) as input and returns its transpose. Print the original and transposed matrices.\n",
    "def transpose(matrix):\n",
    "    result = []\n",
    "    for i in range(3):\n",
    "        row = []\n",
    "        for j in range(3):\n",
    "            row.append(matrix[j][i])\n",
    "        result.append(row)\n",
    "    return result\n",
    "matrix = [\n",
    "    [1, 2, 3],\n",
    "    [4, 5, 6],\n",
    "    [7, 8, 9]\n",
    "]\n",
    "print(\"Original Matrix:\")\n",
    "for row in matrix:\n",
    "    print(row)\n",
    "transposed = transpose(matrix)\n",
    "print(\"Transposed Matrix:\")\n",
    "for row in transposed:\n",
    "    print(row)\n"
   ]
  },
  {
   "cell_type": "code",
   "execution_count": 11,
   "id": "60ba46b3",
   "metadata": {},
   "outputs": [
    {
     "name": "stdout",
     "output_type": "stream",
     "text": [
      "Original nested list: [[1, 2], [3, 4], [5, 6]]\n",
      "Flattened list: [1, 2, 3, 4, 5, 6]\n"
     ]
    }
   ],
   "source": [
    "#Assignment 10: Flattening a Nested List\n",
    "#Write a function that takes a nested list and flattens it into a single list. Print the original and flattened lists.\n",
    "def flatten_list(nested):\n",
    "    flat = []\n",
    "    for sublist in nested:\n",
    "        for item in sublist:\n",
    "            flat.append(item)\n",
    "    return flat\n",
    "\n",
    "nested_list = [[1, 2], [3, 4], [5, 6]]\n",
    "print(\"Original nested list:\", nested_list)\n",
    "flattened = flatten_list(nested_list)\n",
    "print(\"Flattened list:\", flattened)\n"
   ]
  },
  {
   "cell_type": "code",
   "execution_count": 12,
   "id": "9b59660a",
   "metadata": {},
   "outputs": [
    {
     "name": "stdout",
     "output_type": "stream",
     "text": [
      "Modified list: [1, 2, 4, 6, 8, 99, 9, 10]\n"
     ]
    }
   ],
   "source": [
    "#Assignment 11: List Manipulation\n",
    "#Create a list of the first 10 positive integers. Remove the elements at indices 2, 4, and 6, and insert the element '99' at index 5. Print the modified list.\n",
    "numbers = list(range(1, 11))\n",
    "del numbers[6]\n",
    "del numbers[4]\n",
    "del numbers[2]\n",
    "numbers.insert(5, 99)\n",
    "print(\"Modified list:\", numbers)\n"
   ]
  },
  {
   "cell_type": "code",
   "execution_count": 13,
   "id": "afe25fa5",
   "metadata": {},
   "outputs": [
    {
     "name": "stdout",
     "output_type": "stream",
     "text": [
      "Zipped list: [('a', 1), ('b', 2), ('c', 3), ('d', 4)]\n"
     ]
    }
   ],
   "source": [
    "#Assignment 12: List Zipping\n",
    "#Create two lists of the same length. Use the zip function to combine these lists into a list of tuples and print the result.\n",
    "list1 = ['a', 'b', 'c', 'd']\n",
    "list2 = [1, 2, 3, 4]\n",
    "zipped = list(zip(list1, list2))\n",
    "print(\"Zipped list:\", zipped)\n"
   ]
  },
  {
   "cell_type": "code",
   "execution_count": 14,
   "id": "067cc9cf",
   "metadata": {},
   "outputs": [
    {
     "name": "stdout",
     "output_type": "stream",
     "text": [
      "Original list: [1, 2, 3, 4, 5]\n",
      "Reversed list: [5, 4, 3, 2, 1]\n"
     ]
    }
   ],
   "source": [
    "#Assignment 13: List Reversal\n",
    "#Write a function that takes a list and returns a new list with the elements in reverse order. Print the original and reversed lists.\n",
    "def reverse_list(lst):\n",
    "    return lst[::-1]\n",
    "original = [1, 2, 3, 4, 5]\n",
    "reversed_list = reverse_list(original)\n",
    "print(\"Original list:\", original)\n",
    "print(\"Reversed list:\", reversed_list)\n"
   ]
  },
  {
   "cell_type": "code",
   "execution_count": 15,
   "id": "0433ebc6",
   "metadata": {},
   "outputs": [
    {
     "name": "stdout",
     "output_type": "stream",
     "text": [
      "Original list: [1, 2, 3, 4, 5]\n",
      "Rotated list: [3, 4, 5, 1, 2]\n"
     ]
    }
   ],
   "source": [
    "#Assignment 14: List Rotation\n",
    "#Write a function that rotates a list by n positions. Print the original and rotated lists.\n",
    "def rotate_list(lst, n):\n",
    "    n = n % len(lst)\n",
    "    return lst[n:] + lst[:n]\n",
    "original = [1, 2, 3, 4, 5]\n",
    "rotated = rotate_list(original, 2)\n",
    "print(\"Original list:\", original)\n",
    "print(\"Rotated list:\", rotated)\n"
   ]
  },
  {
   "cell_type": "code",
   "execution_count": 16,
   "id": "64a079ef",
   "metadata": {},
   "outputs": [
    {
     "name": "stdout",
     "output_type": "stream",
     "text": [
      "Intersection of both lists: [4, 5]\n"
     ]
    }
   ],
   "source": [
    "#Assignment 15: List Intersection\n",
    "#Write a function that takes two lists and returns a new list containing only the elements that are present in both lists. Print the intersected list.\n",
    "def intersect_lists(list1, list2):\n",
    "    return [x for x in list1 if x in list2]\n",
    "list1 = [1, 2, 3, 4, 5]\n",
    "list2 = [4, 5, 6, 7, 8]\n",
    "intersection = intersect_lists(list1, list2)\n",
    "print(\"Intersection of both lists:\", intersection)\n"
   ]
  }
 ],
 "metadata": {
  "kernelspec": {
   "display_name": "base",
   "language": "python",
   "name": "python3"
  },
  "language_info": {
   "codemirror_mode": {
    "name": "ipython",
    "version": 3
   },
   "file_extension": ".py",
   "mimetype": "text/x-python",
   "name": "python",
   "nbconvert_exporter": "python",
   "pygments_lexer": "ipython3",
   "version": "3.13.5"
  }
 },
 "nbformat": 4,
 "nbformat_minor": 5
}
