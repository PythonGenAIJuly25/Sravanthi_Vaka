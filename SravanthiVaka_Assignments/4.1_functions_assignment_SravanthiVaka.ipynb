{
 "cells": [
  {
   "cell_type": "markdown",
   "metadata": {},
   "source": [
    "# Module 4: Functions Assignments\n",
    "## Lesson 4.1: Defining Functions\n",
    "### Assignment 1: Simple Function\n",
    "\n",
    "Define a function that takes a single integer as input and returns its square. Test the function with different inputs.\n",
    "\n",
    "### Assignment 2: Multiple Arguments\n",
    "\n",
    "Define a function that takes two integers as input and returns their sum. Test the function with different inputs.\n",
    "\n",
    "### Assignment 3: Default Arguments\n",
    "\n",
    "Define a function that takes two integers as input and returns their sum. The second integer should have a default value of 5. Test the function with different inputs.\n",
    "\n",
    "### Assignment 4: Keyword Arguments\n",
    "\n",
    "Define a function that takes three named arguments: first_name, last_name, and age, and returns a formatted string. Test the function with different inputs.\n",
    "\n",
    "### Assignment 5: Variable-length Arguments\n",
    "\n",
    "Define a function that takes a variable number of integer arguments and returns their product. Test the function with different inputs.\n",
    "\n",
    "### Assignment 6: Nested Functions\n",
    "\n",
    "Define a function that contains another function inside it. The outer function should take two integers as input and return the result of the inner function, which multiplies the two integers. Test the function with different inputs.\n",
    "\n",
    "### Assignment 7: Returning Multiple Values\n",
    "\n",
    "Define a function that takes a single integer as input and returns the integer squared, cubed, and raised to the power of four. Test the function with different inputs.\n",
    "\n",
    "### Assignment 8: Recursive Function\n",
    "\n",
    "Define a recursive function that calculates the factorial of a given number. Test the function with different inputs.\n",
    "\n",
    "### Assignment 9: Lambda Function\n",
    "\n",
    "Define a lambda function that takes two integers as input and returns their sum. Test the lambda function with different inputs.\n",
    "\n",
    "### Assignment 10: Map Function\n",
    "\n",
    "Use the map function to apply a lambda function that squares each number in a list of integers. Test with different lists.\n",
    "\n",
    "### Assignment 11: Filter Function\n",
    "\n",
    "Use the filter function to filter out all odd numbers from a list of integers. Test with different lists.\n",
    "\n",
    "### Assignment 12: Function Decorator\n",
    "\n",
    "Define a decorator function that prints 'Executing function...' before executing a function and 'Function executed.' after executing it. Apply this decorator to a function that takes a list of integers and returns their sum. Test the decorated function with different lists.\n",
    "\n",
    "### Assignment 13: Function with *args and **kwargs\n",
    "\n",
    "Define a function that takes variable-length arguments and keyword arguments and prints them. Test the function with different inputs.\n",
    "\n",
    "### Assignment 14: Higher-Order Function\n",
    "\n",
    "Define a higher-order function that takes a function and a list of integers as arguments, and applies the function to each integer in the list. Test with different functions and lists.\n",
    "\n",
    "### Assignment 15: Function Documentation\n",
    "\n",
    "Define a function with a docstring that explains what the function does, its parameters, and its return value. Print the function's docstring."
   ]
  },
  {
   "cell_type": "code",
   "execution_count": 1,
   "metadata": {},
   "outputs": [
    {
     "name": "stdout",
     "output_type": "stream",
     "text": [
      "9\n",
      "25\n",
      "100\n"
     ]
    }
   ],
   "source": [
    "#Lesson 4.1: Defining Functions\n",
    "#Assignment 1: Simple Function\n",
    "#Define a function that takes a single integer as input and returns its square. Test the function with different inputs.\n",
    "def square(num):\n",
    "    return num * num\n",
    "print(square(3))\n",
    "print(square(5))\n",
    "print(square(10))\n"
   ]
  },
  {
   "cell_type": "code",
   "execution_count": 2,
   "id": "42cfd066",
   "metadata": {},
   "outputs": [
    {
     "name": "stdout",
     "output_type": "stream",
     "text": [
      "9\n",
      "30\n",
      "4\n"
     ]
    }
   ],
   "source": [
    "#Assignment 2: Multiple Arguments\n",
    "#Define a function that takes two integers as input and returns their sum. Test the function with different inputs.\n",
    "def add(a, b):\n",
    "    return a + b\n",
    "print(add(4, 5))\n",
    "print(add(10, 20))\n",
    "print(add(-3, 7))\n"
   ]
  },
  {
   "cell_type": "code",
   "execution_count": 3,
   "id": "f628b259",
   "metadata": {},
   "outputs": [
    {
     "name": "stdout",
     "output_type": "stream",
     "text": [
      "15\n",
      "10\n",
      "9\n"
     ]
    }
   ],
   "source": [
    "#Assignment 3: Default Arguments\n",
    "#Define a function that takes two integers as input and returns their sum. The second integer should have a default value of 5. Test the function with different inputs.\n",
    "def add(a, b=5):\n",
    "    return a + b\n",
    "print(add(10))\n",
    "print(add(3,7))\n",
    "print(add(4))\n"
   ]
  },
  {
   "cell_type": "code",
   "execution_count": 5,
   "id": "169a2e45",
   "metadata": {},
   "outputs": [
    {
     "name": "stdout",
     "output_type": "stream",
     "text": [
      "Sravanthi Vaka is 21 years old.\n",
      "Ruhee Shaik is 20 years old.\n",
      "Ramya Kiran is 22 years old.\n"
     ]
    }
   ],
   "source": [
    "#Assignment 4: Keyword Arguments\n",
    "#Define a function that takes three named arguments: first_name, last_name, and age, and returns a formatted string. Test the function with different inputs.\n",
    "def format_info(first_name, last_name, age):\n",
    "    return f\"{first_name} {last_name} is {age} years old.\"\n",
    "print(format_info(first_name=\"Sravanthi\", last_name=\"Vaka\", age=21))\n",
    "print(format_info(first_name=\"Ruhee\", last_name=\"Shaik\", age=20))\n",
    "print(format_info(first_name=\"Ramya\", last_name=\"Kiran\", age=22))\n"
   ]
  },
  {
   "cell_type": "code",
   "execution_count": 6,
   "id": "60aac381",
   "metadata": {},
   "outputs": [
    {
     "name": "stdout",
     "output_type": "stream",
     "text": [
      "6\n",
      "24\n",
      "5\n"
     ]
    }
   ],
   "source": [
    "#Assignment 5: Variable-length Arguments\n",
    "#Define a function that takes a variable number of integer arguments and returns their product. Test the function with different inputs.\n",
    "def multiply(*numbers):\n",
    "    result = 1\n",
    "    for num in numbers:\n",
    "        result *= num\n",
    "    return result\n",
    "print(multiply(2, 3))\n",
    "print(multiply(1, 2, 3, 4))\n",
    "print(multiply(5))\n"
   ]
  },
  {
   "cell_type": "code",
   "execution_count": 7,
   "id": "9eb37fd0",
   "metadata": {},
   "outputs": [
    {
     "name": "stdout",
     "output_type": "stream",
     "text": [
      "6\n",
      "20\n",
      "42\n"
     ]
    }
   ],
   "source": [
    "#Assignment 6: Nested Functions\n",
    "#Define a function that contains another function inside it. The outer function should take two integers as input and return the result of the inner function, which multiplies the two integers. Test the function with different inputs.\n",
    "def outer(a, b):\n",
    "    def inner(x, y):\n",
    "        return x * y\n",
    "    return inner(a, b)\n",
    "print(outer(2, 3))\n",
    "print(outer(4, 5))\n",
    "print(outer(6, 7))\n"
   ]
  },
  {
   "cell_type": "code",
   "execution_count": 8,
   "id": "fde88c08",
   "metadata": {},
   "outputs": [
    {
     "name": "stdout",
     "output_type": "stream",
     "text": [
      "(4, 8, 16)\n",
      "(9, 27, 81)\n",
      "(25, 125, 625)\n"
     ]
    }
   ],
   "source": [
    "#Assignment 7: Returning Multiple Values\n",
    "#Define a function that takes a single integer as input and returns the integer squared, cubed, and raised to the power of four. Test the function with different inputs.\n",
    "def powers(n):\n",
    "    return n**2, n**3, n**4\n",
    "print(powers(2))\n",
    "print(powers(3))\n",
    "print(powers(5))\n"
   ]
  },
  {
   "cell_type": "code",
   "execution_count": 9,
   "id": "71cf37fe",
   "metadata": {},
   "outputs": [
    {
     "name": "stdout",
     "output_type": "stream",
     "text": [
      "120\n",
      "6\n",
      "1\n"
     ]
    }
   ],
   "source": [
    "#Assignment 8: Recursive Function\n",
    "#Define a recursive function that calculates the factorial of a given number. Test the function with different inputs.\n",
    "def factorial(n):\n",
    "    if n == 0 or n == 1:\n",
    "        return 1\n",
    "    else:\n",
    "        return n * factorial(n - 1)\n",
    "print(factorial(5))\n",
    "print(factorial(3))\n",
    "print(factorial(0))\n"
   ]
  },
  {
   "cell_type": "code",
   "execution_count": 10,
   "id": "341e855a",
   "metadata": {},
   "outputs": [
    {
     "name": "stdout",
     "output_type": "stream",
     "text": [
      "7\n",
      "30\n",
      "0\n"
     ]
    }
   ],
   "source": [
    "#Assignment 9: Lambda Function\n",
    "#Define a lambda function that takes two integers as input and returns their sum. Test the lambda function with different inputs.\n",
    "add = lambda a, b: a + b\n",
    "print(add(3, 4))\n",
    "print(add(10, 20))\n",
    "print(add(-5, 5))\n"
   ]
  },
  {
   "cell_type": "code",
   "execution_count": 11,
   "id": "c324397c",
   "metadata": {},
   "outputs": [
    {
     "name": "stdout",
     "output_type": "stream",
     "text": [
      "[1, 4, 9, 16, 25]\n",
      "[36, 49, 64]\n"
     ]
    }
   ],
   "source": [
    "#Assignment 10: Map Function\n",
    "#Use the map function to apply a lambda function that squares each number in a list of integers. Test with different lists.\n",
    "numbers = [1, 2, 3, 4, 5]\n",
    "squared = list(map(lambda x: x ** 2, numbers))\n",
    "print(squared)\n",
    "numbers2 = [6, 7, 8]\n",
    "squared2 = list(map(lambda x: x ** 2, numbers2))\n",
    "print(squared2)\n"
   ]
  },
  {
   "cell_type": "code",
   "execution_count": 12,
   "id": "d54c2334",
   "metadata": {},
   "outputs": [
    {
     "name": "stdout",
     "output_type": "stream",
     "text": [
      "[2, 4, 6]\n",
      "[8, 10]\n"
     ]
    }
   ],
   "source": [
    "#Assignment 11: Filter Function\n",
    "#Use the filter function to filter out all odd numbers from a list of integers. Test with different lists.\n",
    "numbers = [1, 2, 3, 4, 5, 6]\n",
    "even_numbers = list(filter(lambda x: x % 2 == 0, numbers))\n",
    "print(even_numbers)\n",
    "numbers2 = [7, 8, 9, 10, 11]\n",
    "even_numbers2 = list(filter(lambda x: x % 2 == 0, numbers2))\n",
    "print(even_numbers2)\n"
   ]
  },
  {
   "cell_type": "code",
   "execution_count": 13,
   "id": "67de2454",
   "metadata": {},
   "outputs": [
    {
     "name": "stdout",
     "output_type": "stream",
     "text": [
      "Executing function...\n",
      "Function executed.\n",
      "6\n",
      "Executing function...\n",
      "Function executed.\n",
      "60\n"
     ]
    }
   ],
   "source": [
    "#Assignment 12: Function Decorator\n",
    "#Define a decorator function that prints 'Executing function...' before executing a function and 'Function executed.' after executing it. Apply this decorator to a function that takes a list of integers and returns their sum. Test the decorated function with different lists.\n",
    "def decorator(func):\n",
    "    def wrapper(*args, **kwargs):\n",
    "        print(\"Executing function...\")\n",
    "        result = func(*args, **kwargs)\n",
    "        print(\"Function executed.\")\n",
    "        return result\n",
    "    return wrapper\n",
    "\n",
    "@decorator\n",
    "def sum_list(numbers):\n",
    "    return sum(numbers)\n",
    "print(sum_list([1, 2, 3]))\n",
    "print(sum_list([10, 20, 30]))\n"
   ]
  },
  {
   "cell_type": "code",
   "execution_count": 14,
   "id": "09ea9b12",
   "metadata": {},
   "outputs": [
    {
     "name": "stdout",
     "output_type": "stream",
     "text": [
      "Arguments: (1, 2, 3)\n",
      "Keyword Arguments: {'name': 'Sravanthi', 'age': 21}\n",
      "Arguments: ('apple', 'banana')\n",
      "Keyword Arguments: {'fruit': 'mango', 'color': 'yellow'}\n"
     ]
    }
   ],
   "source": [
    "#Assignment 13: Function with *args and **kwargs\n",
    "#Define a function that takes variable-length arguments and keyword arguments and prints them. Test the function with different inputs.\n",
    "def display_args_kwargs(*args, **kwargs):\n",
    "    print(\"Arguments:\", args)\n",
    "    print(\"Keyword Arguments:\", kwargs)\n",
    "display_args_kwargs(1, 2, 3, name=\"Sravanthi\", age=21)\n",
    "display_args_kwargs(\"apple\", \"banana\", fruit=\"mango\", color=\"yellow\")\n"
   ]
  },
  {
   "cell_type": "code",
   "execution_count": 15,
   "id": "18e0651f",
   "metadata": {},
   "outputs": [
    {
     "name": "stdout",
     "output_type": "stream",
     "text": [
      "[1, 4, 9, 16]\n",
      "[8, 27, 64]\n",
      "[10, 12, 14]\n"
     ]
    }
   ],
   "source": [
    "#Assignment 14: Higher-Order Function\n",
    "#Define a higher-order function that takes a function and a list of integers as arguments, and applies the function to each integer in the list. Test with different functions and lists.\n",
    "def apply_function(func, numbers):\n",
    "    return [func(n) for n in numbers]\n",
    "print(apply_function(lambda x: x ** 2, [1, 2, 3, 4]))\n",
    "print(apply_function(lambda x: x ** 3, [2, 3, 4]))\n",
    "print(apply_function(lambda x: x * 2, [5, 6, 7]))\n"
   ]
  },
  {
   "cell_type": "code",
   "execution_count": 20,
   "id": "96f70a9b",
   "metadata": {},
   "outputs": [
    {
     "name": "stdout",
     "output_type": "stream",
     "text": [
      "\n",
      "This function greets the person with their name.\n",
      "It takes one parameter: name\n",
      "It returns a greeting message.\n",
      "\n"
     ]
    }
   ],
   "source": [
    "#Assignment 15: Function Documentation\n",
    "#Define a function with a docstring that explains what the function does, its parameters, and its return value. Print the function's docstring.\n",
    "def greet(name):\n",
    "    \"\"\"\n",
    "    This function greets the person with their name.\n",
    "    It takes one parameter: name\n",
    "    It returns a greeting message.\n",
    "    \"\"\"\n",
    "    return \"Hello, \" + name + \"!\"\n",
    "print(greet.__doc__)\n",
    "\n"
   ]
  }
 ],
 "metadata": {
  "kernelspec": {
   "display_name": "base",
   "language": "python",
   "name": "python3"
  },
  "language_info": {
   "codemirror_mode": {
    "name": "ipython",
    "version": 3
   },
   "file_extension": ".py",
   "mimetype": "text/x-python",
   "name": "python",
   "nbconvert_exporter": "python",
   "pygments_lexer": "ipython3",
   "version": "3.13.5"
  }
 },
 "nbformat": 4,
 "nbformat_minor": 5
}
