{
 "cells": [
  {
   "cell_type": "markdown",
   "metadata": {},
   "source": [
    "# Module 2: Control Flow Assignments\n",
    "## Lesson 2.1: Conditional Statements\n",
    "### Assignment 1: Simple if Statement\n",
    "\n",
    "Write a program that asks the user to input a number and prints whether the number is positive.\n",
    "\n",
    "### Assignment 2: if-else Statement\n",
    "\n",
    "Write a program that asks the user to input a number and prints whether the number is positive or negative.\n",
    "\n",
    "### Assignment 3: if-elif-else Statement\n",
    "\n",
    "Write a program that asks the user to input a number and prints whether the number is positive, negative, or zero.\n",
    "\n",
    "### Assignment 4: Nested if Statement\n",
    "\n",
    "Write a program that asks the user to input a number and prints whether the number is positive and even, positive and odd, or negative.\n",
    "\n",
    "## Lesson 2.2: Loops\n",
    "### Assignment 5: for Loop\n",
    "\n",
    "Write a program that prints all the numbers from 1 to 10 using a for loop.\n",
    "\n",
    "### Assignment 6: while Loop\n",
    "\n",
    "Write a program that prints all the numbers from 1 to 10 using a while loop.\n",
    "\n",
    "### Assignment 7: Nested Loops\n",
    "\n",
    "Write a program that prints a 5x5 grid of asterisks (*) using nested loops.\n",
    "\n",
    "### Assignment 8: break Statement\n",
    "\n",
    "Write a program that asks the user to input numbers until they input 0. The program should print the sum of all the input numbers.\n",
    "\n",
    "### Assignment 9: continue Statement\n",
    "\n",
    "Write a program that prints all the numbers from 1 to 10 except 5 using a for loop and continue statement.\n",
    "\n",
    "### Assignment 10: pass Statement\n",
    "\n",
    "Write a program that defines an empty function using the pass statement.\n",
    "\n",
    "### Assignment 11: Combining Loops and Conditionals\n",
    "\n",
    "Write a program that asks the user to input a number and prints all the even numbers from 1 to that number using a for loop.\n",
    "\n",
    "### Assignment 12: Factorial Calculation\n",
    "\n",
    "Write a program that calculates the factorial of a number input by the user using a while loop.\n",
    "\n",
    "### Assignment 13: Sum of Digits\n",
    "\n",
    "Write a program that calculates the sum of the digits of a number input by the user using a while loop.\n",
    "\n",
    "### Assignment 14: Prime Number Check\n",
    "\n",
    "Write a program that checks if a number input by the user is a prime number using a for loop.\n",
    "\n",
    "### Assignment 15: Fibonacci Sequence\n",
    "\n",
    "Write a program that prints the first n Fibonacci numbers, where n is input by the user."
   ]
  },
  {
   "cell_type": "code",
   "execution_count": 1,
   "metadata": {},
   "outputs": [
    {
     "name": "stdout",
     "output_type": "stream",
     "text": [
      "The number 10 is positive\n"
     ]
    }
   ],
   "source": [
    "## Lesson 2.1: Conditional Statements\n",
    "### Assignment 1: Simple if Statement\n",
    "# Write a program that asks the user to input a number and prints whether the number is positive.\n",
    "num = int(input(\"Enter a number: \"))\n",
    "if num > 0:\n",
    "    print(f\"The number {num} is positive\")\n"
   ]
  },
  {
   "cell_type": "code",
   "execution_count": 24,
   "id": "19ce440c",
   "metadata": {},
   "outputs": [
    {
     "name": "stdout",
     "output_type": "stream",
     "text": [
      "The number -10 is negative\n"
     ]
    }
   ],
   "source": [
    "### Assignment 2: if-else Statement\n",
    "#Write a program that asks the user to input a number and prints whether the number is positive or negative\n",
    "num = int(input(\"Enter a number: \"))\n",
    "if num >0:\n",
    "    print(f\"The number {num} is positive\")\n",
    "else:\n",
    "    print(f\"The number {num} is negative\")\n"
   ]
  },
  {
   "cell_type": "code",
   "execution_count": 3,
   "id": "e8776b9c",
   "metadata": {},
   "outputs": [
    {
     "name": "stdout",
     "output_type": "stream",
     "text": [
      "The number 8 is positive\n"
     ]
    }
   ],
   "source": [
    "### Assignment 3: if-elif-else Statement\n",
    "\n",
    "#Write a program that asks the user to input a number and prints whether the number is positive, negative, or zero.\n",
    "num = int(input(\"Enter a number: \"))\n",
    "if num > 0:\n",
    "    print(f\"The number {num} is positive\")\n",
    "elif num == 0:\n",
    "    print(\"The number is zero\")\n",
    "else:\n",
    "    print(f\"The number {num} is negative\")\n",
    "\n"
   ]
  },
  {
   "cell_type": "code",
   "execution_count": 25,
   "id": "e78e096e",
   "metadata": {},
   "outputs": [
    {
     "name": "stdout",
     "output_type": "stream",
     "text": [
      "The number 6 is positive and even\n"
     ]
    }
   ],
   "source": [
    "### Assignment 4: Nested if Statement\n",
    "\n",
    "#Write a program that asks the user to input a number and prints whether the number is positive and even, positive and odd, or negative.\n",
    "num = int(input(\"Enter a number: \"))\n",
    "if num >= 0:\n",
    "    if num % 2 == 0:\n",
    "        print(f\"The number {num} is positive and even\")\n",
    "    else:\n",
    "        print(f\"The number {num} is positive and odd\")\n",
    "else:\n",
    "    print(f\"The number {num} is negative\")\n"
   ]
  },
  {
   "cell_type": "code",
   "execution_count": 5,
   "id": "7a83f0cf",
   "metadata": {},
   "outputs": [
    {
     "name": "stdout",
     "output_type": "stream",
     "text": [
      "1\n",
      "2\n",
      "3\n",
      "4\n",
      "5\n",
      "6\n",
      "7\n",
      "8\n",
      "9\n",
      "10\n"
     ]
    }
   ],
   "source": [
    "\n",
    "## Lesson 2.2: Loops\n",
    "### Assignment 5: for Loop\n",
    "\n",
    "#Write a program that prints all the numbers from 1 to 10 using a for loop.\n",
    "for i in range(1, 11):\n",
    "    print(i)\n"
   ]
  },
  {
   "cell_type": "code",
   "execution_count": 6,
   "id": "9a05c969",
   "metadata": {},
   "outputs": [
    {
     "name": "stdout",
     "output_type": "stream",
     "text": [
      "1\n",
      "2\n",
      "3\n",
      "4\n",
      "5\n",
      "6\n",
      "7\n",
      "8\n",
      "9\n",
      "10\n"
     ]
    }
   ],
   "source": [
    "### Assignment 6: while Loop\n",
    "\n",
    "#Write a program that prints all the numbers from 1 to 10 using a while loop.\n",
    "i = 1\n",
    "while i <= 10:\n",
    "    print(i)\n",
    "    i += 1\n"
   ]
  },
  {
   "cell_type": "code",
   "execution_count": 7,
   "id": "8d7c587b",
   "metadata": {},
   "outputs": [
    {
     "name": "stdout",
     "output_type": "stream",
     "text": [
      "* * * * * \n",
      "* * * * * \n",
      "* * * * * \n",
      "* * * * * \n",
      "* * * * * \n"
     ]
    }
   ],
   "source": [
    "### Assignment 7: Nested Loops\n",
    "\n",
    "#Write a program that prints a 5x5 grid of asterisks (*) using nested loops.\n",
    "for i in range(5):\n",
    "    for j in range(5):\n",
    "        print(\"*\", end=\" \")\n",
    "    print()\n",
    "\n"
   ]
  },
  {
   "cell_type": "code",
   "execution_count": 10,
   "id": "78bf8ca3",
   "metadata": {},
   "outputs": [
    {
     "name": "stdout",
     "output_type": "stream",
     "text": [
      "Sum of all entered numbers: 15\n"
     ]
    }
   ],
   "source": [
    "### Assignment 8: break Statement\n",
    "\n",
    "#Write a program that asks the user to input numbers until they input 0. The program should print the sum of all the input numbers.\n",
    "total = 0\n",
    "while True:\n",
    "    num = int(input(\"Enter a number (0 to stop): \"))\n",
    "    if num == 0:\n",
    "        break\n",
    "    total += num\n",
    "print(\"Sum of all entered numbers:\", total)\n"
   ]
  },
  {
   "cell_type": "code",
   "execution_count": 11,
   "id": "929f7194",
   "metadata": {},
   "outputs": [
    {
     "name": "stdout",
     "output_type": "stream",
     "text": [
      "1\n",
      "2\n",
      "3\n",
      "4\n",
      "6\n",
      "7\n",
      "8\n",
      "9\n",
      "10\n"
     ]
    }
   ],
   "source": [
    "### Assignment 9: continue Statement\n",
    "\n",
    "#Write a program that prints all the numbers from 1 to 10 except 5 using a for loop and continue statement.\n",
    "for i in range(1, 11):\n",
    "    if i == 5:\n",
    "        continue\n",
    "    print(i)\n"
   ]
  },
  {
   "cell_type": "code",
   "execution_count": 12,
   "id": "9bdb0864",
   "metadata": {},
   "outputs": [
    {
     "name": "stdout",
     "output_type": "stream",
     "text": [
      "Empty function defined successfully.\n"
     ]
    }
   ],
   "source": [
    "### Assignment 10: pass Statement\n",
    "\n",
    "#Write a program that defines an empty function using the pass statement.\n",
    "def my_function():\n",
    "    pass\n",
    "print(\"Empty function defined successfully.\")\n"
   ]
  },
  {
   "cell_type": "code",
   "execution_count": 13,
   "id": "502fc141",
   "metadata": {},
   "outputs": [
    {
     "name": "stdout",
     "output_type": "stream",
     "text": [
      "2\n",
      "4\n",
      "6\n",
      "8\n",
      "10\n"
     ]
    }
   ],
   "source": [
    "### Assignment 11: Combining Loops and Conditionals\n",
    "\n",
    "#Write a program that asks the user to input a number and prints all the even numbers from 1 to that number using a for loop.\n",
    "n = int(input(\"Enter a number: \"))\n",
    "for i in range(1, n + 1):\n",
    "    if i % 2 == 0:\n",
    "        print(i)\n"
   ]
  },
  {
   "cell_type": "code",
   "execution_count": 15,
   "id": "7761eb8d",
   "metadata": {},
   "outputs": [
    {
     "name": "stdout",
     "output_type": "stream",
     "text": [
      "Factorial of 5 is: 120\n"
     ]
    }
   ],
   "source": [
    "### Assignment 12: Factorial Calculation\n",
    "#Write a program that calculates the factorial of a number input by the user using a while loop.\n",
    "num = int(input(\"Enter a number: \"))\n",
    "fact = 1\n",
    "i = 1\n",
    "while i <= num:\n",
    "    fact *= i\n",
    "    i += 1\n",
    "print(f\"Factorial of {num} is: {fact}\")\n"
   ]
  },
  {
   "cell_type": "code",
   "execution_count": 18,
   "id": "e6b0a570",
   "metadata": {},
   "outputs": [
    {
     "name": "stdout",
     "output_type": "stream",
     "text": [
      "The Original Number is: 33\n",
      "Sum of digits: 6\n"
     ]
    }
   ],
   "source": [
    "### Assignment 13: Sum of Digits\n",
    "\n",
    "#Write a program that calculates the sum of the digits of a number input by the user using a while loop.\n",
    "num = int(input(\"Enter a number: \"))\n",
    "total = 0\n",
    "print(\"The Original Number is:\",num)\n",
    "while num > 0:\n",
    "    digit = num % 10\n",
    "    total += digit\n",
    "    num //= 10\n",
    "print(\"Sum of digits:\", total)\n"
   ]
  },
  {
   "cell_type": "code",
   "execution_count": 20,
   "id": "d3f193b0",
   "metadata": {},
   "outputs": [
    {
     "name": "stdout",
     "output_type": "stream",
     "text": [
      "3 is a prime number\n"
     ]
    }
   ],
   "source": [
    "### Assignment 14: Prime Number Check\n",
    "#Write a program that checks if a number input by the user is a prime number using a for loop.\n",
    "num = int(input(\"Enter a number: \"))\n",
    "if num <= 1:\n",
    "    print(f\"{num} is not a prime number\")\n",
    "else:\n",
    "    for i in range(2, num):\n",
    "        if num % i == 0:\n",
    "            print(f\"{num} is not a prime number\")\n",
    "            break\n",
    "    else:\n",
    "        print(f\"{num} is a prime number\")\n"
   ]
  },
  {
   "cell_type": "code",
   "execution_count": 23,
   "id": "a4e345da",
   "metadata": {},
   "outputs": [
    {
     "name": "stdout",
     "output_type": "stream",
     "text": [
      "The Fibonacci series of 10 numbers is:\n",
      "0 1 1 2 3 5 8 13 21 34 "
     ]
    }
   ],
   "source": [
    "### Assignment 15: Fibonacci Sequence\n",
    "\n",
    "#Write a program that prints the first n Fibonacci numbers, where n is input by the user.\n",
    "n = int(input(\"Enter the number: \"))\n",
    "a, b = 0, 1\n",
    "print(f\"The Fibonacci series of {n} numbers is:\")\n",
    "for i in range(n):\n",
    "    print(a, end=\" \")\n",
    "    a, b = b, a + b\n",
    "\n"
   ]
  }
 ],
 "metadata": {
  "kernelspec": {
   "display_name": "base",
   "language": "python",
   "name": "python3"
  },
  "language_info": {
   "codemirror_mode": {
    "name": "ipython",
    "version": 3
   },
   "file_extension": ".py",
   "mimetype": "text/x-python",
   "name": "python",
   "nbconvert_exporter": "python",
   "pygments_lexer": "ipython3",
   "version": "3.13.5"
  }
 },
 "nbformat": 4,
 "nbformat_minor": 5
}
