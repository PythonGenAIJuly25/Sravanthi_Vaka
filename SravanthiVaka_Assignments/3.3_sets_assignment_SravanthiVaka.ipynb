{
 "cells": [
  {
   "cell_type": "markdown",
   "metadata": {},
   "source": [
    "# Module 3: Data Structures Assignments\n",
    "## Lesson 3.3: Sets\n",
    "### Assignment 1: Creating and Accessing Sets\n",
    "\n",
    "Create a set with the first 10 positive integers. Print the set.\n",
    "\n",
    "### Assignment 2: Adding and Removing Elements\n",
    "\n",
    "Add the number 11 to the set created in Assignment 1. Then remove the number 1 from the set. Print the modified set.\n",
    "\n",
    "### Assignment 3: Set Operations\n",
    "\n",
    "Create two sets: one with the first 5 positive integers and another with the first 5 even integers. Perform and print the results of union, intersection, difference, and symmetric difference operations on these sets.\n",
    "\n",
    "### Assignment 4: Set Comprehensions\n",
    "\n",
    "Create a new set containing the squares of the first 10 positive integers using a set comprehension. Print the new set.\n",
    "\n",
    "### Assignment 5: Filtering Sets\n",
    "\n",
    "Create a new set containing only the even numbers from the set created in Assignment 1 using a set comprehension. Print the new set.\n",
    "\n",
    "### Assignment 6: Set Methods\n",
    "\n",
    "Create a set with duplicate elements and remove the duplicates using set methods. Print the modified set.\n",
    "\n",
    "### Assignment 7: Subsets and Supersets\n",
    "\n",
    "Create two sets: one with the first 5 positive integers and another with the first 3 positive integers. Check if the second set is a subset of the first set and if the first set is a superset of the second set. Print the results.\n",
    "\n",
    "### Assignment 8: Frozenset\n",
    "\n",
    "Create a frozenset with the first 5 positive integers. Print the frozenset.\n",
    "\n",
    "### Assignment 9: Set and List Conversion\n",
    "\n",
    "Create a set with the first 5 positive integers. Convert it to a list, append the number 6, and convert it back to a set. Print the resulting set.\n",
    "\n",
    "### Assignment 10: Set and Dictionary\n",
    "\n",
    "Create a dictionary with set keys and integer values. Print the dictionary.\n",
    "\n",
    "### Assignment 11: Iterating Over Sets\n",
    "\n",
    "Create a set and iterate over the elements, printing each element.\n",
    "\n",
    "### Assignment 12: Removing Elements from Sets\n",
    "\n",
    "Create a set and remove elements from it until it is empty. Print the set after each removal.\n",
    "\n",
    "### Assignment 13: Set Symmetric Difference Update\n",
    "\n",
    "Create two sets and update the first set with the symmetric difference of the two sets. Print the modified first set.\n",
    "\n",
    "### Assignment 14: Set Membership Testing\n",
    "\n",
    "Create a set and test if certain elements are present in the set. Print the results.\n",
    "\n",
    "### Assignment 15: Set of Tuples\n",
    "\n",
    "Create a set containing tuples, where each tuple contains two elements. Print the set."
   ]
  },
  {
   "cell_type": "code",
   "execution_count": 1,
   "metadata": {},
   "outputs": [
    {
     "name": "stdout",
     "output_type": "stream",
     "text": [
      "Set: {1, 2, 3, 4, 5, 6, 7, 8, 9, 10}\n"
     ]
    }
   ],
   "source": [
    "#Module 3: Data Structures Assignments\n",
    "#Lesson 3.3: Sets\n",
    "#Assignment 1: Creating and Accessing Sets\n",
    "#Create a set with the first 10 positive integers. Print the set.\n",
    "numbers = {1, 2, 3, 4, 5, 6, 7, 8, 9, 10}\n",
    "print(\"Set:\", numbers)\n"
   ]
  },
  {
   "cell_type": "code",
   "execution_count": 2,
   "id": "8c18fafc",
   "metadata": {},
   "outputs": [
    {
     "name": "stdout",
     "output_type": "stream",
     "text": [
      "Modified set: {2, 3, 4, 5, 6, 7, 8, 9, 10, 11}\n"
     ]
    }
   ],
   "source": [
    "#Assignment 2: Adding and Removing Elements\n",
    "#Add the number 11 to the set created in Assignment 1. Then remove the number 1 from the set. Print the modified set.\n",
    "numbers = {1, 2, 3, 4, 5, 6, 7, 8, 9, 10}\n",
    "numbers.add(11)\n",
    "numbers.remove(1)\n",
    "print(\"Modified set:\", numbers)\n"
   ]
  },
  {
   "cell_type": "code",
   "execution_count": 4,
   "id": "8b016f21",
   "metadata": {},
   "outputs": [
    {
     "name": "stdout",
     "output_type": "stream",
     "text": [
      "Union: {1, 2, 3, 4, 5, 6, 8, 10}\n",
      "Intersection: {2, 4}\n",
      "Difference: {1, 3, 5}\n",
      "Symmetric Difference: {1, 3, 5, 6, 8, 10}\n"
     ]
    }
   ],
   "source": [
    "#Assignment 3: Set Operations\n",
    "#Create two sets: one with the first 5 positive integers and another with the first 5 even integers. Perform and print the results of union, intersection, difference, and symmetric difference operations on these sets.\n",
    "set1 = {1, 2, 3, 4, 5}\n",
    "set2 = {2, 4, 6, 8, 10}\n",
    "print(\"Union:\", set1 | set2)\n",
    "print(\"Intersection:\", set1 & set2)\n",
    "print(\"Difference:\", set1 - set2)\n",
    "print(\"Symmetric Difference:\", set1 ^ set2)\n"
   ]
  },
  {
   "cell_type": "code",
   "execution_count": 7,
   "id": "c9a2e9f8",
   "metadata": {},
   "outputs": [
    {
     "name": "stdout",
     "output_type": "stream",
     "text": [
      "Set of squares: {64, 1, 4, 36, 100, 9, 16, 49, 81, 25}\n"
     ]
    }
   ],
   "source": [
    "#Assignment 4: Set Comprehensions\n",
    "#Create a new set containing the squares of the first 10 positive integers using a set comprehension. Print the new set.\n",
    "squares = {x * x for x in range(1, 11)}\n",
    "print(\"Set of squares:\", squares)\n",
    "\n"
   ]
  },
  {
   "cell_type": "code",
   "execution_count": 8,
   "id": "77641d5e",
   "metadata": {},
   "outputs": [
    {
     "name": "stdout",
     "output_type": "stream",
     "text": [
      "Even numbers set: {2, 4, 6, 8, 10}\n"
     ]
    }
   ],
   "source": [
    "#Assignment 5: Filtering Sets\n",
    "#Create a new set containing only the even numbers from the set created in Assignment 1 using a set comprehension. Print the new set.\n",
    "n = {1, 2, 3, 4, 5, 6, 7, 8, 9, 10}\n",
    "even_num = {x for x in n if x % 2 == 0}\n",
    "print(\"Even numbers set:\", even_num)\n"
   ]
  },
  {
   "cell_type": "code",
   "execution_count": 9,
   "id": "5a4468af",
   "metadata": {},
   "outputs": [
    {
     "name": "stdout",
     "output_type": "stream",
     "text": [
      "Set without duplicates: {1, 2, 3, 4, 5}\n"
     ]
    }
   ],
   "source": [
    "#Assignment 6: Set Methods\n",
    "#Create a set with duplicate elements and remove the duplicates using set methods. Print the modified set.\n",
    "n = [1, 2, 2, 3, 4, 4, 5]\n",
    "unique_numbers = set(n)\n",
    "print(\"Set without duplicates:\", unique_numbers)\n"
   ]
  },
  {
   "cell_type": "code",
   "execution_count": 10,
   "id": "9932ee9d",
   "metadata": {},
   "outputs": [
    {
     "name": "stdout",
     "output_type": "stream",
     "text": [
      "Is set2 a subset of set1? True\n",
      "Is set1 a superset of set2? True\n"
     ]
    }
   ],
   "source": [
    "#Assignment 7: Subsets and Supersets\n",
    "#Create two sets: one with the first 5 positive integers and another with the first 3 positive integers. Check if the second set is a subset of the first set and if the first set is a superset of the second set. Print the results.\n",
    "set1 = {1, 2, 3, 4, 5}\n",
    "set2 = {1, 2, 3}\n",
    "print(\"Is set2 a subset of set1?\", set2.issubset(set1))\n",
    "print(\"Is set1 a superset of set2?\", set1.issuperset(set2))\n"
   ]
  },
  {
   "cell_type": "code",
   "execution_count": 11,
   "id": "b6764d31",
   "metadata": {},
   "outputs": [
    {
     "name": "stdout",
     "output_type": "stream",
     "text": [
      "Frozenset: frozenset({1, 2, 3, 4, 5})\n"
     ]
    }
   ],
   "source": [
    "#Assignment 8: Frozenset\n",
    "#Create a frozenset with the first 5 positive integers. Print the frozenset.\n",
    "numbers = frozenset([1, 2, 3, 4, 5])\n",
    "print(\"Frozenset:\", numbers)\n"
   ]
  },
  {
   "cell_type": "code",
   "execution_count": 12,
   "id": "0a5a0552",
   "metadata": {},
   "outputs": [
    {
     "name": "stdout",
     "output_type": "stream",
     "text": [
      "Updated set: {1, 2, 3, 4, 5, 6}\n"
     ]
    }
   ],
   "source": [
    "#Assignment 9: Set and List Conversion\n",
    "#Create a set with the first 5 positive integers. Convert it to a list, append the number 6, and convert it back to a set. Print the resulting set.\n",
    "numbers = {1, 2, 3, 4, 5}\n",
    "numbers_list = list(numbers)\n",
    "numbers_list.append(6)\n",
    "updated_set = set(numbers_list)\n",
    "print(\"Updated set:\", updated_set)\n"
   ]
  },
  {
   "cell_type": "code",
   "execution_count": 13,
   "id": "2b752ab6",
   "metadata": {},
   "outputs": [
    {
     "name": "stdout",
     "output_type": "stream",
     "text": [
      "Dictionary with frozenset keys: {frozenset({1, 2}): 100, frozenset({3, 4}): 200, frozenset({5, 6}): 300}\n"
     ]
    }
   ],
   "source": [
    "#Assignment 10: Set and Dictionary\n",
    "#Create a dictionary with set keys and integer values. Print the dictionary.\n",
    "my_dict = {\n",
    "    frozenset({1, 2}): 100,\n",
    "    frozenset({3, 4}): 200,\n",
    "    frozenset({5, 6}): 300\n",
    "}\n",
    "print(\"Dictionary with frozenset keys:\", my_dict)\n"
   ]
  },
  {
   "cell_type": "code",
   "execution_count": 14,
   "id": "46ab12b2",
   "metadata": {},
   "outputs": [
    {
     "name": "stdout",
     "output_type": "stream",
     "text": [
      "1\n",
      "2\n",
      "3\n",
      "4\n",
      "5\n"
     ]
    }
   ],
   "source": [
    "#Assignment 11: Iterating Over Sets\n",
    "#Create a set and iterate over the elements, printing each element.\n",
    "numbers = {1, 2, 3, 4, 5}\n",
    "for num in numbers:\n",
    "    print(num)\n"
   ]
  },
  {
   "cell_type": "code",
   "execution_count": 15,
   "id": "1b5107e6",
   "metadata": {},
   "outputs": [
    {
     "name": "stdout",
     "output_type": "stream",
     "text": [
      "Removed: 1\n",
      "Set now: {2, 3, 4, 5}\n",
      "Removed: 2\n",
      "Set now: {3, 4, 5}\n",
      "Removed: 3\n",
      "Set now: {4, 5}\n",
      "Removed: 4\n",
      "Set now: {5}\n",
      "Removed: 5\n",
      "Set now: set()\n"
     ]
    }
   ],
   "source": [
    "#Assignment 12: Removing Elements from Sets\n",
    "#Create a set and remove elements from it until it is empty. Print the set after each removal.\n",
    "numbers = {1, 2, 3, 4, 5}\n",
    "while numbers:\n",
    "    removed_element = numbers.pop()\n",
    "    print(\"Removed:\", removed_element)\n",
    "    print(\"Set now:\", numbers)\n"
   ]
  },
  {
   "cell_type": "code",
   "execution_count": 17,
   "id": "c7d7aebb",
   "metadata": {},
   "outputs": [
    {
     "name": "stdout",
     "output_type": "stream",
     "text": [
      "Modified set1 after symmetric difference update: {1, 2, 3, 6, 7, 8}\n"
     ]
    }
   ],
   "source": [
    "#Assignment 13: Set Symmetric Difference Update\n",
    "#Create two sets and update the first set with the symmetric difference of the two sets. Print the modified first set.\n",
    "set1 = {1, 2, 3, 4, 5}\n",
    "set2 = {4, 5, 6, 7, 8}\n",
    "set1.symmetric_difference_update(set2)\n",
    "print(\"Modified set1 after symmetric difference update:\", set1)\n"
   ]
  },
  {
   "cell_type": "code",
   "execution_count": 18,
   "id": "a0af743c",
   "metadata": {},
   "outputs": [
    {
     "name": "stdout",
     "output_type": "stream",
     "text": [
      "True\n",
      "False\n",
      "False\n",
      "True\n"
     ]
    }
   ],
   "source": [
    "#Assignment 14: Set Membership Testing\n",
    "#Create a set and test if certain elements are present in the set. Print the results.\n",
    "numbers = {1, 2, 3, 4, 5}\n",
    "print(3 in numbers)\n",
    "print(6 in numbers)\n",
    "print(1 not in numbers)\n",
    "print(7 not in numbers)\n"
   ]
  },
  {
   "cell_type": "code",
   "execution_count": 19,
   "id": "6f54def3",
   "metadata": {},
   "outputs": [
    {
     "name": "stdout",
     "output_type": "stream",
     "text": [
      "Set of tuples: {(1, 2), (3, 4), (5, 6)}\n"
     ]
    }
   ],
   "source": [
    "#Assignment 15: Set of Tuples\n",
    "#Create a set containing tuples, where each tuple contains two elements. Print the set.\n",
    "tuple_set = {(1, 2), (3, 4), (5, 6)}\n",
    "print(\"Set of tuples:\", tuple_set)\n"
   ]
  }
 ],
 "metadata": {
  "kernelspec": {
   "display_name": "base",
   "language": "python",
   "name": "python3"
  },
  "language_info": {
   "codemirror_mode": {
    "name": "ipython",
    "version": 3
   },
   "file_extension": ".py",
   "mimetype": "text/x-python",
   "name": "python",
   "nbconvert_exporter": "python",
   "pygments_lexer": "ipython3",
   "version": "3.13.5"
  }
 },
 "nbformat": 4,
 "nbformat_minor": 5
}
