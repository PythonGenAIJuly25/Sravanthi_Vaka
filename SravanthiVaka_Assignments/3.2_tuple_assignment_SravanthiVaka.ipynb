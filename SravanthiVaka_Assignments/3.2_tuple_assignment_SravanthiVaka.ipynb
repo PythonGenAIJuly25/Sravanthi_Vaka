{
 "cells": [
  {
   "cell_type": "markdown",
   "id": "6cade624",
   "metadata": {},
   "source": [
    "# Module 3: Data Structures Assignments\n",
    "## Lesson 3.2: Tuples\n",
    "### Assignment 1: Creating and Accessing Tuples\n",
    "\n",
    "Create a tuple with the first 10 positive integers. Print the tuple.\n",
    "\n",
    "### Assignment 2: Accessing Tuple Elements\n",
    "\n",
    "Print the first, middle, and last elements of the tuple created in Assignment 1.\n",
    "\n",
    "### Assignment 3: Tuple Slicing\n",
    "\n",
    "Print the first three elements, the last three elements, and the elements from index 2 to 5 of the tuple created in Assignment 1.\n",
    "\n",
    "### Assignment 4: Nested Tuples\n",
    "\n",
    "Create a nested tuple representing a 3x3 matrix and print the matrix. Access and print the element at the second row and third column.\n",
    "\n",
    "### Assignment 5: Tuple Concatenation\n",
    "\n",
    "Concatenate two tuples: (1, 2, 3) and (4, 5, 6). Print the resulting tuple.\n",
    "\n",
    "### Assignment 6: Tuple Methods\n",
    "\n",
    "Create a tuple with duplicate elements and count the occurrences of an element. Find the index of the first occurrence of an element in the tuple.\n",
    "\n",
    "### Assignment 7: Unpacking Tuples\n",
    "\n",
    "Create a tuple with 5 elements and unpack it into 5 variables. Print the variables.\n",
    "\n",
    "### Assignment 8: Tuple Conversion\n",
    "\n",
    "Convert a list of the first 5 positive integers to a tuple. Print the tuple.\n",
    "\n",
    "### Assignment 9: Tuple of Tuples\n",
    "\n",
    "Create a tuple containing 3 tuples, each with 3 elements. Print the tuple of tuples.\n",
    "\n",
    "### Assignment 10: Tuple and List\n",
    "\n",
    "Create a tuple with the first 5 positive integers. Convert it to a list, append the number 6, and convert it back to a tuple. Print the resulting tuple.\n",
    "\n",
    "### Assignment 11: Tuple and String\n",
    "\n",
    "Create a tuple with the characters of a string. Join the tuple elements into a single string. Print the string.\n",
    "\n",
    "### Assignment 12: Tuple and Dictionary\n",
    "\n",
    "Create a dictionary with tuple keys and integer values. Print the dictionary.\n",
    "\n",
    "### Assignment 13: Nested Tuple Iteration\n",
    "\n",
    "Create a nested tuple and iterate over the elements, printing each element.\n",
    "\n",
    "### Assignment 14: Tuple and Set\n",
    "\n",
    "Create a tuple with duplicate elements. Convert it to a set to remove duplicates and print the resulting set.\n",
    "\n",
    "### Assignment 15: Tuple Functions\n",
    "\n",
    "Write functions that take a tuple and return the minimum, maximum, and sum of the elements. Print the results for a sample tuple."
   ]
  },
  {
   "cell_type": "code",
   "execution_count": 1,
   "metadata": {},
   "outputs": [
    {
     "name": "stdout",
     "output_type": "stream",
     "text": [
      "The tuple is: (1, 2, 3, 4, 5, 6, 7, 8, 9, 10)\n"
     ]
    }
   ],
   "source": [
    "#Lesson 3.2: Tuples\n",
    "#Assignment 1: Creating and Accessing Tuples\n",
    "#Create a tuple with the first 10 positive integers. Print the tuple.\n",
    "numbers = (1, 2, 3, 4, 5, 6, 7, 8, 9, 10)\n",
    "print(\"The tuple is:\", numbers)\n"
   ]
  },
  {
   "cell_type": "code",
   "execution_count": 2,
   "id": "6db0c1e6",
   "metadata": {},
   "outputs": [
    {
     "name": "stdout",
     "output_type": "stream",
     "text": [
      "First element: 1\n",
      "Middle element: 6\n",
      "Last element: 10\n"
     ]
    }
   ],
   "source": [
    "#Assignment 2: Accessing Tuple Elements\n",
    "#Print the first, middle, and last elements of the tuple created in Assignment 1.\n",
    "numbers = (1, 2, 3, 4, 5, 6, 7, 8, 9, 10)\n",
    "print(\"First element:\", numbers[0])\n",
    "print(\"Middle element:\", numbers[len(numbers)//2])\n",
    "print(\"Last element:\", numbers[-1])\n"
   ]
  },
  {
   "cell_type": "code",
   "execution_count": 3,
   "id": "670a2da0",
   "metadata": {},
   "outputs": [
    {
     "name": "stdout",
     "output_type": "stream",
     "text": [
      "First three elements: (1, 2, 3)\n",
      "Last three elements: (8, 9, 10)\n",
      "Elements from index 2 to 5: (3, 4, 5, 6)\n"
     ]
    }
   ],
   "source": [
    "#Assignment 3: Tuple Slicing\n",
    "#Print the first three elements, the last three elements, and the elements from index 2 to 5 of the tuple created in Assignment 1.\n",
    "numbers = (1, 2, 3, 4, 5, 6, 7, 8, 9, 10)\n",
    "print(\"First three elements:\", numbers[0:3])\n",
    "print(\"Last three elements:\", numbers[-3:])\n",
    "print(\"Elements from index 2 to 5:\", numbers[2:6])\n"
   ]
  },
  {
   "cell_type": "code",
   "execution_count": 4,
   "id": "acfa278f",
   "metadata": {},
   "outputs": [
    {
     "name": "stdout",
     "output_type": "stream",
     "text": [
      "Matrix:\n",
      "(1, 2, 3)\n",
      "(4, 5, 6)\n",
      "(7, 8, 9)\n",
      "Element at second row, third column: 6\n"
     ]
    }
   ],
   "source": [
    "#Assignment 4: Nested Tuples\n",
    "#Create a nested tuple representing a 3x3 matrix and print the matrix. Access and print the element at the second row and third column.\n",
    "matrix = (\n",
    "    (1, 2, 3),\n",
    "    (4, 5, 6),\n",
    "    (7, 8, 9)\n",
    ")\n",
    "print(\"Matrix:\")\n",
    "print(matrix[0])\n",
    "print(matrix[1])\n",
    "print(matrix[2])\n",
    "print(\"Element at second row, third column:\", matrix[1][2])\n"
   ]
  },
  {
   "cell_type": "code",
   "execution_count": 5,
   "id": "8d573c7a",
   "metadata": {},
   "outputs": [
    {
     "name": "stdout",
     "output_type": "stream",
     "text": [
      "Concatenated tuple: (1, 2, 3, 4, 5, 6)\n"
     ]
    }
   ],
   "source": [
    "#Assignment 5: Tuple Concatenation\n",
    "#Concatenate two tuples: (1, 2, 3) and (4, 5, 6). Print the resulting tuple.\n",
    "tuple1 = (1, 2, 3)\n",
    "tuple2 = (4, 5, 6)\n",
    "result = tuple1 + tuple2\n",
    "print(\"Concatenated tuple:\", result)\n"
   ]
  },
  {
   "cell_type": "code",
   "execution_count": 6,
   "id": "a68d0f73",
   "metadata": {},
   "outputs": [
    {
     "name": "stdout",
     "output_type": "stream",
     "text": [
      "Count of 2: 3\n",
      "Index of first occurrence of 4: 4\n"
     ]
    }
   ],
   "source": [
    "#Assignment 6: Tuple Methods\n",
    "#Create a tuple with duplicate elements and count the occurrences of an element. Find the index of the first occurrence of an element in the tuple.\n",
    "numbers = (1, 2, 3, 2, 4, 2, 5)\n",
    "print(\"Count of 2:\", numbers.count(2))\n",
    "print(\"Index of first occurrence of 4:\", numbers.index(4))\n"
   ]
  },
  {
   "cell_type": "code",
   "execution_count": 7,
   "id": "96baf42d",
   "metadata": {},
   "outputs": [
    {
     "name": "stdout",
     "output_type": "stream",
     "text": [
      "10\n",
      "20\n",
      "30\n",
      "40\n",
      "50\n"
     ]
    }
   ],
   "source": [
    "#Assignment 7: Unpacking Tuples\n",
    "#Create a tuple with 5 elements and unpack it into 5 variables. Print the variables.\n",
    "data = (10, 20, 30, 40, 50)\n",
    "a, b, c, d, e = data\n",
    "print(a)\n",
    "print(b)\n",
    "print(c)\n",
    "print(d)\n",
    "print(e)\n"
   ]
  },
  {
   "cell_type": "code",
   "execution_count": 8,
   "id": "09265e3b",
   "metadata": {},
   "outputs": [
    {
     "name": "stdout",
     "output_type": "stream",
     "text": [
      "Converted tuple: (1, 2, 3, 4, 5)\n"
     ]
    }
   ],
   "source": [
    "#Assignment 8: Tuple Conversion\n",
    "#Convert a list of the first 5 positive integers to a tuple. Print the tuple.\n",
    "numbers_list = [1, 2, 3, 4, 5]\n",
    "numbers_tuple = tuple(numbers_list)\n",
    "print(\"Converted tuple:\", numbers_tuple)\n"
   ]
  },
  {
   "cell_type": "code",
   "execution_count": 9,
   "id": "43e1e0b6",
   "metadata": {},
   "outputs": [
    {
     "name": "stdout",
     "output_type": "stream",
     "text": [
      "Tuple of tuples: ((1, 2, 3), (4, 5, 6), (7, 8, 9))\n"
     ]
    }
   ],
   "source": [
    "# 9: Tuple of Tuples\n",
    "#Create a tuple containing 3 tuples, each with 3 elements. Print the tuple of tuples.\n",
    "t = (\n",
    "    (1, 2, 3),\n",
    "    (4, 5, 6),\n",
    "    (7, 8, 9)\n",
    ")\n",
    "\n",
    "print(\"Tuple of tuples:\", t)\n"
   ]
  },
  {
   "cell_type": "code",
   "execution_count": 10,
   "id": "2367426a",
   "metadata": {},
   "outputs": [
    {
     "name": "stdout",
     "output_type": "stream",
     "text": [
      "Updated tuple: (1, 2, 3, 4, 5, 6)\n"
     ]
    }
   ],
   "source": [
    "#Assignment 10: Tuple and List\n",
    "#Create a tuple with the first 5 positive integers. Convert it to a list, append the number 6, and convert it back to a tuple. Print the resulting tuple.\n",
    "numbers = (1, 2, 3, 4, 5)\n",
    "numbers_list = list(numbers)\n",
    "numbers_list.append(6)\n",
    "updated_tuple = tuple(numbers_list)\n",
    "print(\"Updated tuple:\", updated_tuple)\n"
   ]
  },
  {
   "cell_type": "code",
   "execution_count": 13,
   "id": "6ddd9f40",
   "metadata": {},
   "outputs": [
    {
     "name": "stdout",
     "output_type": "stream",
     "text": [
      "Joined string: Sravanthi\n"
     ]
    }
   ],
   "source": [
    "#Assignment 11: Tuple and String\n",
    "#Create a tuple with the characters of a string. Join the tuple elements into a single string. Print the string.\n",
    "c = ('S','r','a','v','a','n','t','h','i')\n",
    "result = ''.join(c)\n",
    "print(\"Joined string:\", result)\n"
   ]
  },
  {
   "cell_type": "code",
   "execution_count": 15,
   "id": "171c3737",
   "metadata": {},
   "outputs": [
    {
     "name": "stdout",
     "output_type": "stream",
     "text": [
      "Dictionary with tuple keys and integer values: {(1, 2): 100, (3, 4): 200, (5, 6): 300}\n"
     ]
    }
   ],
   "source": [
    "#Assignment 12: Tuple and Dictionary\n",
    "#Create a dictionary with tuple keys and integer values. Print the dictionary.\n",
    "my_dict = {\n",
    "    (1, 2): 100,\n",
    "    (3, 4): 200,\n",
    "    (5, 6): 300\n",
    "}\n",
    "print(\"Dictionary with tuple keys and integer values:\", my_dict)\n"
   ]
  },
  {
   "cell_type": "code",
   "execution_count": 16,
   "id": "c19f46b6",
   "metadata": {},
   "outputs": [
    {
     "name": "stdout",
     "output_type": "stream",
     "text": [
      "1\n",
      "2\n",
      "3\n",
      "4\n",
      "5\n",
      "6\n",
      "7\n",
      "8\n",
      "9\n"
     ]
    }
   ],
   "source": [
    "#Assignment 13: Nested Tuple Iteration\n",
    "#Create a nested tuple and iterate over the elements, printing each element.\n",
    "nested_tuple = (\n",
    "    (1, 2, 3),\n",
    "    (4, 5, 6),\n",
    "    (7, 8, 9)\n",
    ")\n",
    "for row in nested_tuple:\n",
    "    for element in row:\n",
    "        print(element)\n"
   ]
  },
  {
   "cell_type": "code",
   "execution_count": 17,
   "id": "d2d710b7",
   "metadata": {},
   "outputs": [
    {
     "name": "stdout",
     "output_type": "stream",
     "text": [
      "Set without duplicates: {1, 2, 3, 4, 5}\n"
     ]
    }
   ],
   "source": [
    "#Assignment 14: Tuple and Set\n",
    "#Create a tuple with duplicate elements. Convert it to a set to remove duplicates and print the resulting set.\n",
    "numbers = (1, 2, 2, 3, 4, 4, 5)\n",
    "unique_numbers = set(numbers)\n",
    "print(\"Set without duplicates:\", unique_numbers)\n"
   ]
  },
  {
   "cell_type": "code",
   "execution_count": 18,
   "id": "24928586",
   "metadata": {},
   "outputs": [
    {
     "name": "stdout",
     "output_type": "stream",
     "text": [
      "Minimum: 5\n",
      "Maximum: 40\n",
      "Sum: 90\n"
     ]
    }
   ],
   "source": [
    "#Assignment 15: Tuple Functions\n",
    "#Write functions that take a tuple and return the minimum, maximum, and sum of the elements. Print the results for a sample tuple.\n",
    "def find_min(t):\n",
    "    return min(t)\n",
    "def find_max(t):\n",
    "    return max(t)\n",
    "def find_sum(t):\n",
    "    return sum(t)\n",
    "sample_tuple = (10, 20, 5, 40, 15)\n",
    "print(\"Minimum:\", find_min(sample_tuple))\n",
    "print(\"Maximum:\", find_max(sample_tuple))\n",
    "print(\"Sum:\", find_sum(sample_tuple))\n"
   ]
  }
 ],
 "metadata": {
  "kernelspec": {
   "display_name": "base",
   "language": "python",
   "name": "python3"
  },
  "language_info": {
   "codemirror_mode": {
    "name": "ipython",
    "version": 3
   },
   "file_extension": ".py",
   "mimetype": "text/x-python",
   "name": "python",
   "nbconvert_exporter": "python",
   "pygments_lexer": "ipython3",
   "version": "3.13.5"
  }
 },
 "nbformat": 4,
 "nbformat_minor": 5
}
